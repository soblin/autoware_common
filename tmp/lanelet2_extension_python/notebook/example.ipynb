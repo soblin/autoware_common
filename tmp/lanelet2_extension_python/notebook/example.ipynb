{
 "cells": [
  {
   "cell_type": "code",
   "execution_count": null,
   "id": "4ebb568c",
   "metadata": {},
   "outputs": [],
   "source": [
    "import lanelet2\n",
    "from lanelet2_extension.projection import MGRSProjector\n",
    "\n",
    "def print_layer(layer, layerName):\n",
    "    print(\"IDs in \" + layerName)\n",
    "    print(sorted([elem.id for elem in layer]))\n",
    "\n",
    "\n",
    "# Download the file from\n",
    "# https://autowarefoundation.github.io/autoware-documentation/main/tutorials/ad-hoc-simulation/planning-simulation/#preparation\n",
    "if __name__ == \"__main__\":\n",
    "    proj = MGRSProjector(lanelet2.io.Origin(0.0, 0.0))\n",
    "    ll2_map = lanelet2.io.load(\n",
    "        \"./sample-map-planning/lanelet2_map.osm\", proj\n",
    "    )\n",
    "\n",
    "    layers = {\n",
    "        \"Points\": ll2_map.pointLayer,\n",
    "        \"Line Strings\": ll2_map.lineStringLayer,\n",
    "        \"Polygons\": ll2_map.polygonLayer,\n",
    "        \"Lanelets\": ll2_map.laneletLayer,\n",
    "        \"Areas\": ll2_map.areaLayer,\n",
    "        \"Regulatory Elements\": ll2_map.regulatoryElementLayer,\n",
    "    }\n",
    "\n",
    "    for layer_name, layer in layers.items():\n",
    "        print_layer(layer, layer_name)"
   ]
  },
  {
   "cell_type": "code",
   "execution_count": null,
   "id": "a47595fa",
   "metadata": {},
   "outputs": [],
   "source": [
    "import lanelet2\n",
    "import lanelet2.geometry as lg2\n",
    "\n",
    "lanelet56 = ll2_map.laneletLayer.get(56)\\\n",
    "\n",
    "# geometry\n",
    "print(\n",
    "f\"the length of left bound, right bound and centerline of lanelet56 is \\\n",
    "{lg2.length(lanelet56.leftBound)}, {lg2.length(lanelet56.rightBound)}, \\\n",
    "{lg2.length(lanelet56.centerline)}\"\n",
    ")\n",
    "\n",
    "# regulatory element\n",
    "## get associated traffic lights\n",
    "lights = lanelet56.trafficLights()\n",
    "for light in lights:\n",
    "    print(light.stopLine)\n",
    "## get turn_direction\n",
    "turn_direction = lanelet56.attributes[\"turn_direction\"]\n",
    "print(turn_direction)\n",
    "\n",
    "# routing\n",
    "traffic_rules = lanelet2.traffic_rules.create(lanelet2.traffic_rules.Locations.Germany, \\\n",
    "                                              lanelet2.traffic_rules.Participants.Vehicle)\n",
    "graph = lanelet2.routing.RoutingGraph(ll2_map, traffic_rules)\n",
    "## get conflicting lanelets\n",
    "conflictings = graph.conflicting(lanelet56)\n",
    "print(f\"lanelet56 is conflicting with {[conflicting.id for conflicting in conflictings]}\")\n",
    "## get following lanelets\n",
    "followings = graph.following(lanelet56)\n",
    "print(f\"lanelet56 is connected to {[following.id for following in followings]}\")\n",
    "previouses = graph.previous(lanelet56)\n",
    "print(f\"lanelet56 is followed by {[previous.id for previous in previouses]}\")"
   ]
  }
 ],
 "metadata": {
  "kernelspec": {
   "display_name": "Python 3 (ipykernel)",
   "language": "python",
   "name": "python3"
  },
  "language_info": {
   "codemirror_mode": {
    "name": "ipython",
    "version": 3
   },
   "file_extension": ".py",
   "mimetype": "text/x-python",
   "name": "python",
   "nbconvert_exporter": "python",
   "pygments_lexer": "ipython3",
   "version": "3.10.6"
  }
 },
 "nbformat": 4,
 "nbformat_minor": 5
}
